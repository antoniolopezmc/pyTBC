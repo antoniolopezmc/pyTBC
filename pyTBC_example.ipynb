{
 "cells": [
  {
   "cell_type": "code",
   "execution_count": 1,
   "id": "e5bb9bdd",
   "metadata": {},
   "outputs": [],
   "source": [
    "from pyTBC import TraceBasedClustering\n",
    "import pandas as pd"
   ]
  },
  {
   "cell_type": "code",
   "execution_count": 2,
   "id": "c2870fff",
   "metadata": {},
   "outputs": [],
   "source": [
    "# Create a pandas DataFrame.\n",
    "df = pd.DataFrame({\"att1\" : [0,1,2,3,4,5,6,7,8,9], \"att2\" : [0,1,2,3,4,5,6,7,8,9], \"att3\" : [0,1,2,3,4,5,6,7,8,9]})"
   ]
  },
  {
   "cell_type": "code",
   "execution_count": 3,
   "id": "f00dbc78",
   "metadata": {},
   "outputs": [
    {
     "data": {
      "text/html": [
       "<div>\n",
       "<style scoped>\n",
       "    .dataframe tbody tr th:only-of-type {\n",
       "        vertical-align: middle;\n",
       "    }\n",
       "\n",
       "    .dataframe tbody tr th {\n",
       "        vertical-align: top;\n",
       "    }\n",
       "\n",
       "    .dataframe thead th {\n",
       "        text-align: right;\n",
       "    }\n",
       "</style>\n",
       "<table border=\"1\" class=\"dataframe\">\n",
       "  <thead>\n",
       "    <tr style=\"text-align: right;\">\n",
       "      <th></th>\n",
       "      <th>att1</th>\n",
       "      <th>att2</th>\n",
       "      <th>att3</th>\n",
       "    </tr>\n",
       "  </thead>\n",
       "  <tbody>\n",
       "    <tr>\n",
       "      <th>0</th>\n",
       "      <td>0</td>\n",
       "      <td>0</td>\n",
       "      <td>0</td>\n",
       "    </tr>\n",
       "    <tr>\n",
       "      <th>1</th>\n",
       "      <td>1</td>\n",
       "      <td>1</td>\n",
       "      <td>1</td>\n",
       "    </tr>\n",
       "    <tr>\n",
       "      <th>2</th>\n",
       "      <td>2</td>\n",
       "      <td>2</td>\n",
       "      <td>2</td>\n",
       "    </tr>\n",
       "    <tr>\n",
       "      <th>3</th>\n",
       "      <td>3</td>\n",
       "      <td>3</td>\n",
       "      <td>3</td>\n",
       "    </tr>\n",
       "    <tr>\n",
       "      <th>4</th>\n",
       "      <td>4</td>\n",
       "      <td>4</td>\n",
       "      <td>4</td>\n",
       "    </tr>\n",
       "    <tr>\n",
       "      <th>5</th>\n",
       "      <td>5</td>\n",
       "      <td>5</td>\n",
       "      <td>5</td>\n",
       "    </tr>\n",
       "    <tr>\n",
       "      <th>6</th>\n",
       "      <td>6</td>\n",
       "      <td>6</td>\n",
       "      <td>6</td>\n",
       "    </tr>\n",
       "    <tr>\n",
       "      <th>7</th>\n",
       "      <td>7</td>\n",
       "      <td>7</td>\n",
       "      <td>7</td>\n",
       "    </tr>\n",
       "    <tr>\n",
       "      <th>8</th>\n",
       "      <td>8</td>\n",
       "      <td>8</td>\n",
       "      <td>8</td>\n",
       "    </tr>\n",
       "    <tr>\n",
       "      <th>9</th>\n",
       "      <td>9</td>\n",
       "      <td>9</td>\n",
       "      <td>9</td>\n",
       "    </tr>\n",
       "  </tbody>\n",
       "</table>\n",
       "</div>"
      ],
      "text/plain": [
       "   att1  att2  att3\n",
       "0     0     0     0\n",
       "1     1     1     1\n",
       "2     2     2     2\n",
       "3     3     3     3\n",
       "4     4     4     4\n",
       "5     5     5     5\n",
       "6     6     6     6\n",
       "7     7     7     7\n",
       "8     8     8     8\n",
       "9     9     9     9"
      ]
     },
     "execution_count": 3,
     "metadata": {},
     "output_type": "execute_result"
    }
   ],
   "source": [
    "df"
   ]
  },
  {
   "cell_type": "code",
   "execution_count": 4,
   "id": "5031976e",
   "metadata": {},
   "outputs": [],
   "source": [
    "# Create a TraceBasedClustering object.\n",
    "tbc_object = TraceBasedClustering(k = 5, \\\n",
    "                                  clustering_algorithm = \"kmeans\", \\\n",
    "                                  match_function = \"dice\", \\\n",
    "                                  mean_greater_or_equal_than = 0.8, \\\n",
    "                                  median_greater_or_equal_than = 0.8, \\\n",
    "                                  criterion = \"only_mean\", \\\n",
    "                                  random_seed = 50, \\\n",
    "                                  save_matrices_to_file = \"matrices.csv\")"
   ]
  },
  {
   "cell_type": "code",
   "execution_count": 5,
   "id": "088ead96",
   "metadata": {},
   "outputs": [],
   "source": [
    "# Fit.\n",
    "tbc_object.fit(df)"
   ]
  },
  {
   "cell_type": "code",
   "execution_count": 6,
   "id": "6def8cad",
   "metadata": {},
   "outputs": [
    {
     "data": {
      "text/plain": [
       "{2: [[0, 1, 2, 3, 4], [5, 6, 7, 8, 9]],\n",
       " 3: [[7, 8, 9], [0, 1, 2], [3, 4, 5, 6]],\n",
       " 4: [[0, 1, 2], [8, 9], [5, 6, 7], [3, 4]],\n",
       " 5: [[5, 6], [0, 1, 2], [7, 8], [3, 4], [9]]}"
      ]
     },
     "execution_count": 6,
     "metadata": {},
     "output_type": "execute_result"
    }
   ],
   "source": [
    "# Show the set of partitions.\n",
    "tbc_object.set_of_partitions"
   ]
  },
  {
   "cell_type": "code",
   "execution_count": 7,
   "id": "a1c944fd",
   "metadata": {},
   "outputs": [
    {
     "data": {
      "text/html": [
       "<div>\n",
       "<style scoped>\n",
       "    .dataframe tbody tr th:only-of-type {\n",
       "        vertical-align: middle;\n",
       "    }\n",
       "\n",
       "    .dataframe tbody tr th {\n",
       "        vertical-align: top;\n",
       "    }\n",
       "\n",
       "    .dataframe thead th {\n",
       "        text-align: right;\n",
       "    }\n",
       "</style>\n",
       "<table border=\"1\" class=\"dataframe\">\n",
       "  <thead>\n",
       "    <tr style=\"text-align: right;\">\n",
       "      <th></th>\n",
       "      <th>partition5_cluster0</th>\n",
       "      <th>partition5_cluster1</th>\n",
       "      <th>partition5_cluster2</th>\n",
       "      <th>partition5_cluster3</th>\n",
       "      <th>partition5_cluster4</th>\n",
       "    </tr>\n",
       "  </thead>\n",
       "  <tbody>\n",
       "    <tr>\n",
       "      <th>partition2</th>\n",
       "      <td>(0.5714285714285714, cluster1)</td>\n",
       "      <td>(0.75, cluster0)</td>\n",
       "      <td>(0.5714285714285714, cluster1)</td>\n",
       "      <td>(0.5714285714285714, cluster0)</td>\n",
       "      <td>(0.3333333333333333, cluster1)</td>\n",
       "    </tr>\n",
       "    <tr>\n",
       "      <th>partition3</th>\n",
       "      <td>(0.6666666666666666, cluster2)</td>\n",
       "      <td>(1.0, cluster1)</td>\n",
       "      <td>(0.8, cluster0)</td>\n",
       "      <td>(0.6666666666666666, cluster2)</td>\n",
       "      <td>(0.5, cluster0)</td>\n",
       "    </tr>\n",
       "    <tr>\n",
       "      <th>partition4</th>\n",
       "      <td>(0.8, cluster2)</td>\n",
       "      <td>(1.0, cluster0)</td>\n",
       "      <td>(0.5, cluster1)</td>\n",
       "      <td>(1.0, cluster3)</td>\n",
       "      <td>(0.6666666666666666, cluster1)</td>\n",
       "    </tr>\n",
       "  </tbody>\n",
       "</table>\n",
       "</div>"
      ],
      "text/plain": [
       "                       partition5_cluster0 partition5_cluster1  \\\n",
       "partition2  (0.5714285714285714, cluster1)    (0.75, cluster0)   \n",
       "partition3  (0.6666666666666666, cluster2)     (1.0, cluster1)   \n",
       "partition4                 (0.8, cluster2)     (1.0, cluster0)   \n",
       "\n",
       "                       partition5_cluster2             partition5_cluster3  \\\n",
       "partition2  (0.5714285714285714, cluster1)  (0.5714285714285714, cluster0)   \n",
       "partition3                 (0.8, cluster0)  (0.6666666666666666, cluster2)   \n",
       "partition4                 (0.5, cluster1)                 (1.0, cluster3)   \n",
       "\n",
       "                       partition5_cluster4  \n",
       "partition2  (0.3333333333333333, cluster1)  \n",
       "partition3                 (0.5, cluster0)  \n",
       "partition4  (0.6666666666666666, cluster1)  "
      ]
     },
     "execution_count": 7,
     "metadata": {},
     "output_type": "execute_result"
    }
   ],
   "source": [
    "# Show the matrix, i.e., both matrix of traces (T) and matrix of matches (J) joined in a single one.\n",
    "tbc_object.matrix"
   ]
  },
  {
   "cell_type": "code",
   "execution_count": 8,
   "id": "637d149c",
   "metadata": {},
   "outputs": [
    {
     "data": {
      "text/plain": [
       "[('partition5_cluster1', 'mean=0.9166666666666666', 'median=1.0')]"
      ]
     },
     "execution_count": 8,
     "metadata": {},
     "output_type": "execute_result"
    }
   ],
   "source": [
    "# Show the list of final candidate clusters.\n",
    "tbc_object.list_of_final_candidate_clusters"
   ]
  },
  {
   "cell_type": "code",
   "execution_count": 9,
   "id": "0f97df53",
   "metadata": {},
   "outputs": [
    {
     "data": {
      "text/plain": [
       "<AxesSubplot:>"
      ]
     },
     "execution_count": 9,
     "metadata": {},
     "output_type": "execute_result"
    },
    {
     "data": {
      "text/plain": [
       "<Figure size 432x288 with 0 Axes>"
      ]
     },
     "metadata": {},
     "output_type": "display_data"
    },
    {
     "data": {
      "image/png": "[encoded data removed]",
      "text/plain": [
       "<Figure size 576x432 with 2 Axes>"
      ]
     },
     "metadata": {
      "needs_background": "light"
     },
     "output_type": "display_data"
    }
   ],
   "source": [
    "# Visualize the matrix of matches.\n",
    "tbc_object.visualizeMatrixOfMatches(figsize = (8, 6), save_to_file = \"matrix_of_matches.png\")"
   ]
  }
 ],
 "metadata": {
  "kernelspec": {
   "display_name": "Python 3 (ipykernel)",
   "language": "python",
   "name": "python3"
  },
  "language_info": {
   "codemirror_mode": {
    "name": "ipython",
    "version": 3
   },
   "file_extension": ".py",
   "mimetype": "text/x-python",
   "name": "python",
   "nbconvert_exporter": "python",
   "pygments_lexer": "ipython3",
   "version": "3.9.7"
  }
 },
 "nbformat": 4,
 "nbformat_minor": 5
}
